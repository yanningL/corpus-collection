{
 "cells": [
  {
   "cell_type": "code",
   "execution_count": 9,
   "metadata": {},
   "outputs": [
    {
     "name": "stdout",
     "output_type": "stream",
     "text": [
      "There are 47261 groups in total\n",
      "There are 4004 French groups\n",
      "- Group fr.bio.medecine.veterinaire has 7 articles ranging from 49 to 86\n",
      "-- There are 5 subjects in this forum\n",
      "--- Message [70] Subject [1] Author [1]\n",
      "--- Message [68] Subject [2] Author [1]\n",
      "--- Message [65] Subject [3] Author [1]\n",
      "--- Message [49] Subject [4] Author [1]\n",
      "--- Message [50] Subject [4] Author [1]\n",
      "--- Message [86] Subject [5] Author [1]\n",
      "- Group fr.bio.pharmacie has 9 articles ranging from 60 to 110\n",
      "-- There are 8 subjects in this forum\n",
      "--- Message [99] Subject [1] Author [1]\n",
      "--- Message [110] Subject [2] Author [1]\n",
      "--- Message [101] Subject [3] Author [1]\n",
      "--- Message [60] Subject [4] Author [1]\n",
      "--- Message [69] Subject [5] Author [1]\n",
      "--- Message [109] Subject [6] Author [1]\n",
      "--- Message [88] Subject [7] Author [1]\n",
      "--- Message [89] Subject [7] Author [2]\n",
      "--- Message [100] Subject [8] Author [1]\n",
      "---- Writing conversation on subject 6\n",
      "- Group fr.comp.algorithmes has 2 articles ranging from 79 to 93\n",
      "-- There are 2 subjects in this forum\n",
      "--- Message [79] Subject [1] Author [1]\n",
      "--- Message [93] Subject [2] Author [1]\n",
      "- Group fr.comp.applications.bureautique has 21 articles ranging from 209 to 257\n",
      "-- There are 4 subjects in this forum\n",
      "--- Message [243] Subject [1] Author [1]\n",
      "--- Message [215] Subject [2] Author [1]\n",
      "--- Message [217] Subject [2] Author [1]\n",
      "--- Message [223] Subject [2] Author [2]\n",
      "--- Message [226] Subject [2] Author [3]\n",
      "--- Message [227] Subject [2] Author [4]\n",
      "--- Message [228] Subject [2] Author [1]\n",
      "--- Message [229] Subject [2] Author [3]\n",
      "--- Message [230] Subject [2] Author [3]\n",
      "--- Message [231] Subject [2] Author [3]\n",
      "--- Message [232] Subject [2] Author [1]\n",
      "--- Message [233] Subject [2] Author [4]\n",
      "--- Message [240] Subject [3] Author [1]\n",
      "--- Message [257] Subject [4] Author [1]\n",
      "---- Writing conversation on subject 1\n"
     ]
    }
   ],
   "source": [
    "# NNTP library\n",
    "from nntplib import NNTP\n",
    "import numpy as np\n",
    "\n",
    "def find_unique_subjects_and_authors(items_original):\n",
    "    \n",
    "    # Empty list\n",
    "    items_reformatted = []\n",
    "\n",
    "    # Create new list of tuples with only relevent details\n",
    "    for message_number, subject, author, date, message_id, references, size, lines in items_original:\n",
    "        # Remove \"Re: \" in subject line\n",
    "        if subject[0:4] == \"Re: \":\n",
    "            subject = subject[4:]\n",
    "        #print subject\n",
    "        items_reformatted.append((message_number, subject, author))\n",
    "\n",
    "    # Convert to numpy array\n",
    "    dtype = [('message_number', int), ('subject', 'S40'), ('author', 'S40')]\n",
    "    items_array = np.array(items_reformatted, dtype = dtype)\n",
    "\n",
    "    # Sort by subject\n",
    "    items_array_sort = np.sort(items_array, axis=0, order=\"subject\")\n",
    "    #print items_array_sort\n",
    "    \n",
    "    # Iterate through subjects to find unique subjects and authors\n",
    "    subject_number = 0\n",
    "    subject_current = ''\n",
    "    authors = []\n",
    "    author_numbers = []\n",
    "    items_array_new = []\n",
    "    for item in items_array_sort:\n",
    "        if item[1] != subject_current:\n",
    "            subject_current = item[1]\n",
    "            subject_number += 1\n",
    "            authors = []\n",
    "            author_numbers.append(0)\n",
    "        if item[2] not in authors:\n",
    "            authors.append(item[2])\n",
    "            author_numbers[-1] += 1\n",
    "        items_array_new.append((item[0], subject_number, authors.index(item[2])+1))\n",
    "        \n",
    "    # Return array of unique subjects and authors\n",
    "    return items_array_new, subject_number, author_numbers\n",
    "\n",
    "def combine_conversations(items, number_of_subjects):\n",
    "    \n",
    "    # Create blank array\n",
    "    conversations = []\n",
    "    for i in range(number_of_subjects):\n",
    "        conversations.append('<s>')\n",
    "    \n",
    "    # Parse the message\n",
    "    for message_number, subject_number, author_number in items:\n",
    "\n",
    "        print \"--- Message [\" + str(message_number) + \"] Subject [\" + str(subject_number) + \"] Author [\" + str(author_number) + \"]\"\n",
    "        resp, number, id, text = s.body(str(message_number))\n",
    "        \n",
    "        # header = True\n",
    "        finish = False\n",
    "        output = \"\"\n",
    "\n",
    "        # Parse text of post\n",
    "        for line in text:\n",
    "            # Parse pre-signature limiter\n",
    "            if line[0:2] == \"--\":\n",
    "                finish = True\n",
    "            # Add line if appropriate\n",
    "            if finish == False and line[0:1] != '>' and 'wrote:' not in line and 'a écrit :' not in line and 'a �crit :' not in line and len(line) > 0:\n",
    "                # print line\n",
    "                if len(output) == 0:\n",
    "                    output = line\n",
    "                else:\n",
    "                    if output[-1:] == ' ':\n",
    "                        output = output + line\n",
    "                    else:\n",
    "                        output = output + \" \" + line\n",
    "\n",
    "        #print subject_number, author_number, output[0:39]\n",
    "        conversations[subject_number - 1] += '<utt uid=\"' + str(author_number) + '\">' + output + '</utt>'\n",
    "        #print conversations[subject_number - 1]\n",
    "        #print \"OUTPUT \" + output\n",
    "\n",
    "    # Insert end-limiter for conversations\n",
    "    for i in range(number_of_subjects):\n",
    "        conversations[i] += '</s>'\n",
    "\n",
    "    return conversations\n",
    "\n",
    "######################################\n",
    "\n",
    "# Open news server and read group list\n",
    "s = NNTP('freenews.netfront.net', readermode=True)\n",
    "groups = s.list()\n",
    "print \"There are \" + str(len(groups[1])) + \" groups in total\"\n",
    "\n",
    "# Create empty list for French groups\n",
    "french_groups = []\n",
    "\n",
    "# Find French groups\n",
    "for group in groups[1]:\n",
    "    currgroup = group[0]\n",
    "    if currgroup[0:2] == 'fr':\n",
    "        french_groups.append(group[0])\n",
    "print \"There are \" + str(len(french_groups)) + \" French groups\"\n",
    "\n",
    "# Open file to write\n",
    "f = open('samplegroup_fra.xml', 'w')\n",
    "\n",
    "# Iterate through French groups (only subset at present)\n",
    "for group in french_groups[3:7]:\n",
    "    \n",
    "    # Read number of messages in group\n",
    "    resp, count, first, last, name = s.group(group)\n",
    "    print \"- Group \" + group + \" has \" + str(count) + \" articles ranging from \" + str(first) + \" to \" + str(last)\n",
    "    \n",
    "    # Read items info from group\n",
    "    resp, items = s.xover(first, last)\n",
    "    \n",
    "    # Check unique subjects and authors\n",
    "    items_array_new, subject_number, author_numbers = find_unique_subjects_and_authors(items)\n",
    "    print \"-- There are \" + str(subject_number) + \" subjects in this forum\"\n",
    "    \n",
    "    # Combine conversations\n",
    "    conversations = combine_conversations(items_array_new, subject_number)\n",
    "    \n",
    "    # Write conversations with 2 or more authors\n",
    "    index = 0\n",
    "    for dialog in conversations:\n",
    "        if author_numbers[index] >= 2:\n",
    "            f.write('<dialog>\\n')\n",
    "            f.write(dialog + '\\n')\n",
    "            f.write('</dialog>\\n')\n",
    "            print \"---- Writing conversation on subject \" + str(index + 1)\n",
    "        index += 1\n",
    "    \n",
    "# Close file\n",
    "f.close()"
   ]
  },
  {
   "cell_type": "code",
   "execution_count": 184,
   "metadata": {},
   "outputs": [
    {
     "name": "stdout",
     "output_type": "stream",
     "text": [
      "0 <s><utt uid=\"1\">...........................................................</utt></s>\n",
      "1 <s><utt uid=\"1\">Le 21/01/2016 09:16, Pierre-Alain Dorange a �crit : Oui... L'avantage de ma fa�on de faire actuelle avec OpenOffice c'est que je ne me pose pas vraiment de question sur la p�rennit� du format, et qu'en plus je peux facilement y acc�der depuis un smartphone (les docs sur sur dropbox, et on trouve facilement des readers OpenDocument). J'esp�rais qu'il existait un standard ouvert de m�me genre pour des notes/fiches organis�es, mais �a n'a pas trop l'air d'�tre le cas. Le fait de stocker les notes en XML ne change rien si la structure du XML est sp�cifique � l'appli utilis�e.</utt><utt uid=\"1\">Evernote ou OneNote, c'est un peu le même combat :-). En fait psychologiquement j'ai encore du mal à confier des documents \"sérieux\" à un service purement cloud-based. La seule exception que je fais c'est mon carnet de contacts gmail, mais je le backupe régulièrement en CSV ! Le reste (sur Google docs, Google Keep...) c'est des trucs dont la perte éventuelle ne me poserait pas de gros problème.</utt><utt uid=\"2\">Bonjour, Quelque chose qui me dérange un peu dans cette discussion. Selon ce que je comprends, le but est d'avoir une sorte d'hypertexte. Comme le concept existe depuis 20 ou 30 ans, je suis surpris qu'il n'y ait pas de solution simple. Si c'est pour prendre une simple note, n'importe quel éditeur de texte fera l'affaire. Mais si on veut quelque chose de structuré, il faut une structure et dans ce cas, XML semble l'outil idéal. Mais il n'y aurait aucun outil XML qui ferait le travail ? Denis</utt><utt uid=\"3\">Peux-tu détailler ce qui n'est pas pratique ? Pour ma part un document texte OpenDocument organisé par exemple en sections (titres de niveau 1), fiches (titres de niveau 2), dates (titres de niveau 3) ferait assez bien l'affaire. Le navigateur affiché en permanence permet d'accéder rapidement à n'importe quelle fiche tout en fournissant une vue d'ensemble. Le suivi des modifications permet de retrouver aisément la chronologie des ajouts. Un auto-texte pour insérer la date et l'heure courantes est très pratique pour éviter d'avoir la flemme d'ajouter cette info chaque fois.</utt><utt uid=\"4\">Effectivement. Ou avec Calc pour avoir les onglets, mais pas le suivi des modifications. Ce peut être aussi un tableau (Writer ou calc) avec des colonnes qui permettent de trier, par exemple : date de la note date de quelque chose à faire libellé catégorie importance ..</utt><utt uid=\"1\">Disons qu'au boulot j'utilise OneNote. La comparaison d'ergonomie pour cet usage tourne quand même assez largement à l'avantage de OneNote. Par exemple le fait d'avoir les trois niveaux d'organisation avec des systèmes d'onglets est efficace. C'est en gros ce que je fais, mais ça fait plus fouilli et on navigue moins facilement. Il ne manque peut-être pas grand-chose, genre dans le navigateur de pouvoir replier/déplier des sous-arborescences de titres.</utt><utt uid=\"3\">Le suivi des modifications est disponible dans Calc, au moins il le sera dans la version 5.1 qui doit sortir début février. La RC2 est disponible pour test. Les gros tableaux sur plusieurs pages dans Writer, ce n'est pas top, à moins (à vérifier) d'utiliser l'affichage \"web\" pour éliminer la pagination. Le texte dans Calc ce n'est pas top non plus dés qu'on dépasse 3 ou 4 lignes car on ne peut afficher que des cellules entières. Mais on peut facilement créer des liens vers de documents plus fournis. JBF</utt><utt uid=\"3\">Tu peux replier/déplier comme tu veux dans le navigateur. C'est dans le texte que cette fonction est manquante. C'est une demande récurrente pour OOo puis LibreOffice, mais personne ne semble vraiment intéressé par la développer. JBF</utt><utt uid=\"3\">J'ai oublié de préciser que l'utilisation du suivi des modifications dans Calc inhibe certaines fonctions comme le tri. J'imagine qu'un tri génère trop de modifications pour que ce soit gérable par l'utilisateur. JBF</utt><utt uid=\"1\">? ?  Pas chez moi... Pourtant j'ai la dernière version. L'équivalent du mode plan de Word ? Si il y a bien un truc que je trouve pratique dans Word c'est ce mode...</utt><utt uid=\"4\">J'ai des tableaux d'une dizaine de page, que j'utilise souvent, en triant par colonne(s) pour mettre ensemble ce dont j'ai besoin, je n'ai pas constaté de problème. (avec XP)</utt></s>\n",
      "2 <s><utt uid=\"1\">   Mauvais groupe, changer groupe.</utt></s>\n",
      "3 <s><utt uid=\"1\">Archive-Name: fr/chartes/comp.applications.bureautique CHARTE DU GROUPE</utt></s>\n"
     ]
    }
   ],
   "source": [
    "for i in range(4):\n",
    "    print i, conversations[i]"
   ]
  },
  {
   "cell_type": "code",
   "execution_count": 216,
   "metadata": {},
   "outputs": [
    {
     "name": "stdout",
     "output_type": "stream",
     "text": [
      "('220 215 <dgfo5mF8p9sU1@mid.individual.net> article', '215', '<dgfo5mF8p9sU1@mid.individual.net>', ['Path: news.netfront.net!news.glorb.com!fu-berlin.de!uni-berlin.de!individual.net!not-for-mail', 'From: pehache <pehache.7@gmail.com>', 'Newsgroups: fr.comp.applications.bureautique,fr.comp.os.mac-os.x', 'Subject: Re: Logiciel de notes avec format ouvert et multiplateforme', 'Date: Fri, 22 Jan 2016 23:18:30 +0100', 'Lines: 33', 'Message-ID: <dgfo5mF8p9sU1@mid.individual.net>', 'References: <dg17a2FjavoU1@mid.individual.net>', ' <1mh6h8x.105z04r1l5d86eN%josephb@nowhere.invalid>', ' <dg24uoFr0t6U2@mid.individual.net>', ' <1mh6p1l.8gglc318q1kxiN%jeff@-noreply-lecanet.com>', ' <1mh6sj2.144ns8rs2npaN%eric.hamery@metamaitre.com>', ' <1mh8upj.wxg2x11oi7x5bN%jeff@-noreply-lecanet.com>', ' <1mhdb05.dga6n11c1326vN%pdorange@pas-de-pub-merci.mac.com>', 'Mime-Version: 1.0', 'Content-Type: text/plain; charset=windows-1252; format=flowed', 'Content-Transfer-Encoding: 8bit', 'X-Trace: individual.net cGi1Fhkcq5v7hV3ZhkUWdQOgw8iVZT6756Mf6rCFXOHP6oHRLx', 'Cancel-Lock: sha1:GuYUVxTsBNgqdBcsQtGekdQX26g=', 'User-Agent: Mozilla/5.0 (Macintosh; Intel Mac OS X 10.11; rv:38.0)', ' Gecko/20100101 Thunderbird/38.5.1', 'In-Reply-To: <1mhdb05.dga6n11c1326vN%pdorange@pas-de-pub-merci.mac.com>', 'Xref: news.netfront.net fr.comp.applications.bureautique:215 fr.comp.os.mac-os.x:24299', '', 'Le 21/01/2016 09:16, Pierre-Alain Dorange a \\xe9crit :', '> Jean-Francois Gautier <jeff@-noreply-lecanet.com> wrote:', '>', \">> J'avais jamais fait attention au fait qu'Evernote avec un format XML\", \">> propr\\xe9taire ! Avec un peu d'astuce, on doit m\\xeame \\xeatre capable de\", \">> r\\xe9cup\\xe9rer son DTD et l'exploiter pour l'importer dans des logiciels de\", '>> gestion documentaires plus aboutis', '>', '> Ca restera (si tu arrives a faire du reverse-ingeneering) propri\\xe9taire', '> et tu es \\xe0 la merci de mises \\xe0 jour qui changent tout et rende ton', \"> \\xe9ventuelle moulinette obsol\\xe8te... C'est tout le probl\\xe8me du\", '> propri\\xe9taire.', '>', '> La meilleure solution resterait un petit logiciel en surcouche de', '> Open/LibreOffice. LibreOffice comme logiciel avec format ouvert,', '> standardis\\xe9 et r\\xe9utilisable, g\\xe9rant tout aussi bien du texte, des', '> tableurs et du dessin.', \"> Et une surcouche (qui n'existe pas je crois) pour regrouper les\", '> documents avec des mots cl\\xe9s et pemettre un acc\\xe8s simple.', '>', '', \"Oui... L'avantage de ma fa\\xe7on de faire actuelle avec OpenOffice c'est \", 'que je ne me pose pas vraiment de question sur la p\\xe9rennit\\xe9 du format, ', \"et qu'en plus je peux facilement y acc\\xe9der depuis un smartphone (les \", 'docs sur sur dropbox, et on trouve facilement des readers OpenDocument).', '', \"J'esp\\xe9rais qu'il existait un standard ouvert de m\\xeame genre pour des \", \"notes/fiches organis\\xe9es, mais \\xe7a n'a pas trop l'air d'\\xeatre le cas. Le \", 'fait de stocker les notes en XML ne change rien si la structure du XML ', \"est sp\\xe9cifique \\xe0 l'appli utilis\\xe9e.\", '', '-- ', '\"Je suis de formation th\\xe9ologique tr\\xe8s rationnelle\" (Richard Hachel)'])\n",
      "('220 229 <n8ckbd$2cm$1@news.albasani.net> article', '229', '<n8ckbd$2cm$1@news.albasani.net>', ['Path: news.netfront.net!goblin1!goblin.stu.neva.ru!news.albasani.net!.POSTED!not-for-mail', 'From: Jean-Baptiste Faure <jbf@no-email-on-usenet.fr>', 'Newsgroups: fr.comp.applications.bureautique', 'Subject: Re: Logiciel de notes avec format ouvert et multiplateforme', 'Date: Thu, 28 Jan 2016 09:43:25 +0100', 'Organization: albasani.net', 'Lines: 28', 'Message-ID: <n8ckbd$2cm$1@news.albasani.net>', 'References: <dg17a2FjavoU1@mid.individual.net>', ' <n8a3eg$7mv$1@news.albasani.net>', ' <bcd5546e13c863f84f73ca1c4e6a1a1b0cd98e3c@news.nemoweb.net>', 'Mime-Version: 1.0', 'Content-Type: text/plain; charset=utf-8; format=flowed', 'Content-Transfer-Encoding: 8bit', 'X-Trace: news.albasani.net smOSWaGswtCugq3P0lWwZTSwPlIqApq7i3fuSlPsJFuhCcGfIjkE8qYn5wMsws/PTSsP5eLOV03/CzpwQ9INnBzEV/Y0QP9355WQ6jf+08UZ9b59vuDeD+ZkAqUYi/DR', 'NNTP-Posting-Date: Thu, 28 Jan 2016 08:43:25 +0000 (UTC)', 'Injection-Info: news.albasani.net; logging-data=\"wEHsq/jipYipRoPNFpqId/uv/qo919DyUNCxnmrAMLUYpP5nwZPYptmRs8jyg1Y3uzF3TsO2149MfbbH51tqRax/4JjsBWBk+pByW4nUOAJBrOJpYNYyi/+YNllJM+f1\"; mail-complaints-to=\"abuse@albasani.net\"', 'User-Agent: Mozilla/5.0 (X11; Linux x86_64; rv:38.0) Gecko/20100101', ' Thunderbird/38.5.1', 'In-Reply-To: <bcd5546e13c863f84f73ca1c4e6a1a1b0cd98e3c@news.nemoweb.net>', 'Cancel-Lock: sha1:S4i9d3raz4FLTxJzR9+ghD+Qu1g=', 'Xref: news.netfront.net fr.comp.applications.bureautique:229', '', 'Le 27/01/2016 17:55, siger a \\xc3\\xa9crit :', '>[...]', '> Effectivement. Ou avec Calc pour avoir les onglets, mais pas le suivi des', '> modifications.', '', 'Le suivi des modifications est disponible dans Calc, au moins il le sera ', 'dans la version 5.1 qui doit sortir d\\xc3\\xa9but f\\xc3\\xa9vrier. La RC2 est disponible ', 'pour test.', '>', '> Ce peut \\xc3\\xaatre aussi un tableau (Writer ou calc) avec des colonnes qui', '> permettent de trier, par exemple :', '> date de la note', '> date de quelque chose \\xc3\\xa0 faire', '> libell\\xc3\\xa9', '> cat\\xc3\\xa9gorie', '> importance', '', \"Les gros tableaux sur plusieurs pages dans Writer, ce n'est pas top, \\xc3\\xa0 \", 'moins (\\xc3\\xa0 v\\xc3\\xa9rifier) d\\'utiliser l\\'affichage \"web\" pour \\xc3\\xa9liminer la pagination.', '', \"Le texte dans Calc ce n'est pas top non plus d\\xc3\\xa9s qu'on d\\xc3\\xa9passe 3 ou 4 \", 'lignes car on ne peut afficher que des cellules enti\\xc3\\xa8res. Mais on peut ', 'facilement cr\\xc3\\xa9er des liens vers de documents plus fournis.', '', 'JBF', '', '-- ', 'Seuls des formats ouverts peuvent assurer la p\\xc3\\xa9rennit\\xc3\\xa9 de vos documents'])\n"
     ]
    }
   ],
   "source": [
    "print s.article('215')\n",
    "print s.article('229')"
   ]
  },
  {
   "cell_type": "code",
   "execution_count": 213,
   "metadata": {},
   "outputs": [
    {
     "name": "stdout",
     "output_type": "stream",
     "text": [
      "['Le 21/01/2016 09:16, Pierre-Alain Dorange a \\xe9crit :', '> Jean-Francois Gautier <jeff@-noreply-lecanet.com> wrote:', '>', \">> J'avais jamais fait attention au fait qu'Evernote avec un format XML\", \">> propr\\xe9taire ! Avec un peu d'astuce, on doit m\\xeame \\xeatre capable de\", \">> r\\xe9cup\\xe9rer son DTD et l'exploiter pour l'importer dans des logiciels de\", '>> gestion documentaires plus aboutis', '>', '> Ca restera (si tu arrives a faire du reverse-ingeneering) propri\\xe9taire', '> et tu es \\xe0 la merci de mises \\xe0 jour qui changent tout et rende ton', \"> \\xe9ventuelle moulinette obsol\\xe8te... C'est tout le probl\\xe8me du\", '> propri\\xe9taire.', '>', '> La meilleure solution resterait un petit logiciel en surcouche de', '> Open/LibreOffice. LibreOffice comme logiciel avec format ouvert,', '> standardis\\xe9 et r\\xe9utilisable, g\\xe9rant tout aussi bien du texte, des', '> tableurs et du dessin.', \"> Et une surcouche (qui n'existe pas je crois) pour regrouper les\", '> documents avec des mots cl\\xe9s et pemettre un acc\\xe8s simple.', '>', '', \"Oui... L'avantage de ma fa\\xe7on de faire actuelle avec OpenOffice c'est \", 'que je ne me pose pas vraiment de question sur la p\\xe9rennit\\xe9 du format, ', \"et qu'en plus je peux facilement y acc\\xe9der depuis un smartphone (les \", 'docs sur sur dropbox, et on trouve facilement des readers OpenDocument).', '', \"J'esp\\xe9rais qu'il existait un standard ouvert de m\\xeame genre pour des \", \"notes/fiches organis\\xe9es, mais \\xe7a n'a pas trop l'air d'\\xeatre le cas. Le \", 'fait de stocker les notes en XML ne change rien si la structure du XML ', \"est sp\\xe9cifique \\xe0 l'appli utilis\\xe9e.\", '', '-- ', '\"Je suis de formation th\\xe9ologique tr\\xe8s rationnelle\" (Richard Hachel)']\n",
      "<type 'str'>\n",
      "écrit\n"
     ]
    }
   ],
   "source": [
    "resp, number, id, text = s.body('215')\n",
    "resp, number, id, text2 = s.body('229')\n",
    "print text\n",
    "\n",
    "a = '\\xc3\\xa9crit'\n",
    "print type(a)\n",
    "print a"
   ]
  },
  {
   "cell_type": "code",
   "execution_count": 215,
   "metadata": {},
   "outputs": [
    {
     "name": "stdout",
     "output_type": "stream",
     "text": [
      "Le 21/01/2016 09:16, Pierre-Alain Dorange a �crit :\n",
      "Le 21/01/2016 09:16, Pierre-Alain Dorange a écrit :\n",
      "> Jean-Francois Gautier <jeff@-noreply-lecanet.com> wrote:\n",
      "> Jean-Francois Gautier <jeff@-noreply-lecanet.com> wrote:\n",
      ">\n",
      ">\n",
      ">> J'avais jamais fait attention au fait qu'Evernote avec un format XML\n",
      ">> J'avais jamais fait attention au fait qu'Evernote avec un format XML\n",
      ">> propr�taire ! Avec un peu d'astuce, on doit m�me �tre capable de\n",
      ">> proprétaire ! Avec un peu d'astuce, on doit même être capable de\n",
      ">> r�cup�rer son DTD et l'exploiter pour l'importer dans des logiciels de\n",
      ">> récupérer son DTD et l'exploiter pour l'importer dans des logiciels de\n",
      ">> gestion documentaires plus aboutis\n",
      ">> gestion documentaires plus aboutis\n",
      ">\n",
      ">\n",
      "> Ca restera (si tu arrives a faire du reverse-ingeneering) propri�taire\n",
      "> Ca restera (si tu arrives a faire du reverse-ingeneering) propriétaire\n",
      "> et tu es � la merci de mises � jour qui changent tout et rende ton\n",
      "> et tu es à la merci de mises à jour qui changent tout et rende ton\n",
      "> �ventuelle moulinette obsol�te... C'est tout le probl�me du\n",
      "> éventuelle moulinette obsolète... C'est tout le problème du\n",
      "> propri�taire.\n",
      "> propriétaire.\n",
      ">\n",
      ">\n",
      "> La meilleure solution resterait un petit logiciel en surcouche de\n",
      "> La meilleure solution resterait un petit logiciel en surcouche de\n",
      "> Open/LibreOffice. LibreOffice comme logiciel avec format ouvert,\n",
      "> Open/LibreOffice. LibreOffice comme logiciel avec format ouvert,\n",
      "> standardis� et r�utilisable, g�rant tout aussi bien du texte, des\n",
      "> standardisé et réutilisable, gérant tout aussi bien du texte, des\n",
      "> tableurs et du dessin.\n",
      "> tableurs et du dessin.\n",
      "> Et une surcouche (qui n'existe pas je crois) pour regrouper les\n",
      "> Et une surcouche (qui n'existe pas je crois) pour regrouper les\n",
      "> documents avec des mots cl�s et pemettre un acc�s simple.\n",
      "> documents avec des mots clés et pemettre un accès simple.\n",
      ">\n",
      ">\n",
      "\n",
      "\n",
      "Oui... L'avantage de ma fa�on de faire actuelle avec OpenOffice c'est \n",
      "Oui... L'avantage de ma façon de faire actuelle avec OpenOffice c'est \n",
      "que je ne me pose pas vraiment de question sur la p�rennit� du format, \n",
      "que je ne me pose pas vraiment de question sur la pérennité du format, \n",
      "et qu'en plus je peux facilement y acc�der depuis un smartphone (les \n",
      "et qu'en plus je peux facilement y accéder depuis un smartphone (les \n",
      "docs sur sur dropbox, et on trouve facilement des readers OpenDocument).\n",
      "docs sur sur dropbox, et on trouve facilement des readers OpenDocument).\n",
      "\n",
      "\n",
      "J'esp�rais qu'il existait un standard ouvert de m�me genre pour des \n",
      "J'espérais qu'il existait un standard ouvert de même genre pour des \n",
      "notes/fiches organis�es, mais �a n'a pas trop l'air d'�tre le cas. Le \n",
      "notes/fiches organisées, mais ça n'a pas trop l'air d'être le cas. Le \n",
      "fait de stocker les notes en XML ne change rien si la structure du XML \n",
      "fait de stocker les notes en XML ne change rien si la structure du XML \n",
      "est sp�cifique � l'appli utilis�e.\n",
      "est spécifique à l'appli utilisée.\n",
      "\n",
      "\n",
      "-- \n",
      "-- \n",
      "\"Je suis de formation th�ologique tr�s rationnelle\" (Richard Hachel)\n",
      "\"Je suis de formation théologique très rationnelle\" (Richard Hachel)\n",
      "Le 27/01/2016 17:55, siger a écrit :\n",
      "Le 27/01/2016 17:55, siger a Ã©crit :\n",
      ">[...]\n",
      ">[...]\n",
      "> Effectivement. Ou avec Calc pour avoir les onglets, mais pas le suivi des\n",
      "> Effectivement. Ou avec Calc pour avoir les onglets, mais pas le suivi des\n",
      "> modifications.\n",
      "> modifications.\n",
      "\n",
      "\n",
      "Le suivi des modifications est disponible dans Calc, au moins il le sera \n",
      "Le suivi des modifications est disponible dans Calc, au moins il le sera \n",
      "dans la version 5.1 qui doit sortir début février. La RC2 est disponible \n",
      "dans la version 5.1 qui doit sortir dÃ©but fÃ©vrier. La RC2 est disponible \n",
      "pour test.\n",
      "pour test.\n",
      ">\n",
      ">\n",
      "> Ce peut être aussi un tableau (Writer ou calc) avec des colonnes qui\n",
      "> Ce peut Ãªtre aussi un tableau (Writer ou calc) avec des colonnes qui\n",
      "> permettent de trier, par exemple :\n",
      "> permettent de trier, par exemple :\n",
      "> date de la note\n",
      "> date de la note\n",
      "> date de quelque chose à faire\n",
      "> date de quelque chose Ã  faire\n",
      "> libellé\n",
      "> libellÃ©\n",
      "> catégorie\n",
      "> catÃ©gorie\n",
      "> importance\n",
      "> importance\n",
      "\n",
      "\n",
      "Les gros tableaux sur plusieurs pages dans Writer, ce n'est pas top, à \n",
      "Les gros tableaux sur plusieurs pages dans Writer, ce n'est pas top, Ã  \n",
      "moins (à vérifier) d'utiliser l'affichage \"web\" pour éliminer la pagination.\n",
      "moins (Ã  vÃ©rifier) d'utiliser l'affichage \"web\" pour Ã©liminer la pagination.\n",
      "\n",
      "\n",
      "Le texte dans Calc ce n'est pas top non plus dés qu'on dépasse 3 ou 4 \n",
      "Le texte dans Calc ce n'est pas top non plus dÃ©s qu'on dÃ©passe 3 ou 4 \n",
      "lignes car on ne peut afficher que des cellules entières. Mais on peut \n",
      "lignes car on ne peut afficher que des cellules entiÃ¨res. Mais on peut \n",
      "facilement créer des liens vers de documents plus fournis.\n",
      "facilement crÃ©er des liens vers de documents plus fournis.\n",
      "\n",
      "\n",
      "JBF\n",
      "JBF\n",
      "\n",
      "\n",
      "-- \n",
      "-- \n",
      "Seuls des formats ouverts peuvent assurer la pérennité de vos documents\n",
      "Seuls des formats ouverts peuvent assurer la pÃ©rennitÃ© de vos documents\n"
     ]
    }
   ],
   "source": [
    "for line in text:\n",
    "    print line\n",
    "    print line.decode('latin1')\n",
    "    \n",
    "for line in text2:\n",
    "    print line\n",
    "    print line.decode('latin1')\n",
    "    "
   ]
  },
  {
   "cell_type": "code",
   "execution_count": 191,
   "metadata": {},
   "outputs": [
    {
     "name": "stdout",
     "output_type": "stream",
     "text": [
      "é\n"
     ]
    }
   ],
   "source": [
    "print '\\xe9'.decode('latin1').encode('utf8')"
   ]
  },
  {
   "cell_type": "code",
   "execution_count": 192,
   "metadata": {},
   "outputs": [
    {
     "name": "stdout",
     "output_type": "stream",
     "text": [
      "la pérennité\n"
     ]
    }
   ],
   "source": [
    "print 'la p\\xe9rennit\\xe9'.decode('latin1').encode('utf8')"
   ]
  },
  {
   "cell_type": "code",
   "execution_count": 228,
   "metadata": {},
   "outputs": [
    {
     "data": {
      "text/plain": [
       "'ISO-8859-1'"
      ]
     },
     "execution_count": 228,
     "metadata": {},
     "output_type": "execute_result"
    }
   ],
   "source": [
    "import chardet\n",
    "encoding1 = chardet.detect('r\\xe9cup\\xe9rer son DTD et l'exploiter pour')\n",
    "encoding1['encoding']\n",
    "encoding2 = chardet.detect('facilement cr\\xc3\\xa9er des liens vers de documents plus fournis')\n",
    "encoding2['encoding']"
   ]
  },
  {
   "cell_type": "code",
   "execution_count": 232,
   "metadata": {},
   "outputs": [
    {
     "name": "stdout",
     "output_type": "stream",
     "text": [
      "{'confidence': 0.73, 'language': '', 'encoding': 'ISO-8859-1'}\n",
      "{'confidence': 0.73, 'language': '', 'encoding': 'ISO-8859-1'}\n"
     ]
    }
   ],
   "source": [
    "print chardet.detect(text[0])\n",
    "print chardet.detect(text2[0])"
   ]
  },
  {
   "cell_type": "code",
   "execution_count": null,
   "metadata": {
    "collapsed": true
   },
   "outputs": [],
   "source": []
  }
 ],
 "metadata": {
  "kernelspec": {
   "display_name": "Python 2",
   "language": "python",
   "name": "python2"
  },
  "language_info": {
   "codemirror_mode": {
    "name": "ipython",
    "version": 2
   },
   "file_extension": ".py",
   "mimetype": "text/x-python",
   "name": "python",
   "nbconvert_exporter": "python",
   "pygments_lexer": "ipython2",
   "version": "2.7.13"
  }
 },
 "nbformat": 4,
 "nbformat_minor": 2
}
